{
 "cells": [
  {
   "cell_type": "code",
   "execution_count": 1,
   "id": "5412eef1-fa6b-426f-a7a8-1f6bd0c146f5",
   "metadata": {},
   "outputs": [],
   "source": [
    "%matplotlib widget\n",
    "import testgear\n",
    "import matplotlib.pyplot as plt\n",
    "import pandas as pd\n",
    "import numpy as np\n",
    "from scipy import stats\n",
    "import matplotlib.dates as mdates\n",
    "import glob\n",
    "import ipywidgets as widgets\n",
    "import datetime\n",
    "import time\n",
    "import matplotlib"
   ]
  },
  {
   "cell_type": "code",
   "execution_count": 2,
   "id": "95847704-edb2-484e-a040-73bfbab19433",
   "metadata": {},
   "outputs": [],
   "source": [
    "F732C = 9.9999726"
   ]
  },
  {
   "cell_type": "code",
   "execution_count": 3,
   "id": "3793ce29-56eb-4bbb-80f7-47a2d182097c",
   "metadata": {},
   "outputs": [
    {
     "data": {
      "application/vnd.jupyter.widget-view+json": {
       "model_id": "bfce79fa2e144c378ce03dd647921d4a",
       "version_major": 2,
       "version_minor": 0
      },
      "text/plain": [
       "IntProgress(value=0, description='Loading:', max=425, style=ProgressStyle(bar_color='blue'))"
      ]
     },
     "metadata": {},
     "output_type": "display_data"
    }
   ],
   "source": [
    "files = sorted(glob.glob(\"data/*_F732C_M69.xlsx\"))\n",
    "\n",
    "bar = widgets.IntProgress(\n",
    "    value=0,\n",
    "    min=0,\n",
    "    max=len(files),\n",
    "    description='Loading:',\n",
    "    bar_style='', # 'success', 'info', 'warning', 'danger' or ''\n",
    "    style={'bar_color': 'blue'},\n",
    "    orientation='horizontal'\n",
    ")\n",
    "\n",
    "bar"
   ]
  },
  {
   "cell_type": "code",
   "execution_count": 4,
   "id": "e26b3c7b-c7ba-4d6f-b120-354a49dcac78",
   "metadata": {},
   "outputs": [
    {
     "name": "stdout",
     "output_type": "stream",
     "text": [
      "data/20221105-025521_F732C_M69.xlsx\r"
     ]
    }
   ],
   "source": [
    "times  = []\n",
    "values = []\n",
    "stds   = []\n",
    "temperature = []\n",
    "\n",
    "for filename in files:\n",
    "    bar.value +=1\n",
    "    print(filename, end = \"\\r\")\n",
    "    data = pd.read_excel(filename)\n",
    "    \n",
    "    times.append(np.mean(data[\"timestamp\"]))\n",
    "    values.append(np.mean(data[\"diff\"]*1e6))\n",
    "    stds.append( 2 * np.std(data[\"diff\"]*1e6)/len(data[\"diff\"])**0.5  )\n",
    "    #stds.append( np.std(data[\"diff\"]*1e6) )\n",
    "    temperature.append(np.mean(data[\"temp\"]))\n",
    "\n",
    "values = np.array(values)"
   ]
  },
  {
   "cell_type": "code",
   "execution_count": 5,
   "id": "667a13a3-214b-45ae-b273-094588b9360b",
   "metadata": {},
   "outputs": [],
   "source": [
    "ts = np.array([ (float(x.to_datetime64()) - float(times[0].to_datetime64())) * 1e-9 for x in times])"
   ]
  },
  {
   "cell_type": "code",
   "execution_count": 6,
   "id": "fc6dd133-c9d5-49c7-bda2-c79abebdf83d",
   "metadata": {},
   "outputs": [
    {
     "data": {
      "application/vnd.jupyter.widget-view+json": {
       "model_id": "504832c8f17842aca69b8d979e90a1ea",
       "version_major": 2,
       "version_minor": 0
      },
      "text/plain": [
       "Canvas(toolbar=Toolbar(toolitems=[('Home', 'Reset original view', 'home', 'home'), ('Back', 'Back to previous …"
      ]
     },
     "metadata": {},
     "output_type": "display_data"
    }
   ],
   "source": [
    "fig, ax = plt.subplots(2, 1, sharex=True)\n",
    "plt.title(\"Fluke 732C vs. M69\")\n",
    "\n",
    "#ax[0].errorbar(times, values, yerr=stds, capsize=5)\n",
    "ax[0].plot(times, values)\n",
    "ax[0].plot(times, values, '.')\n",
    "ax[0].set_ylabel(\"Difference in µV\")\n",
    "ax[0].grid()\n",
    "\n",
    "ax[1].plot(times, temperature)\n",
    "ax[1].set_ylabel(\"Temperature in °C\")\n",
    "ax[1].xaxis.set_major_formatter(mdates.DateFormatter('%Y-%m-%d %H:%M'))\n",
    "ax[1].grid()\n",
    "\n",
    "\n",
    "fig.autofmt_xdate()\n",
    "plt.tight_layout()\n",
    "plt.savefig(\"M69.png\", dpi=150)\n"
   ]
  },
  {
   "cell_type": "code",
   "execution_count": 7,
   "id": "bce0e049-9dcb-4b50-9b19-504ec54d129e",
   "metadata": {},
   "outputs": [
    {
     "data": {
      "application/vnd.jupyter.widget-view+json": {
       "model_id": "b5f422fe5aa241caa8a395720464f48c",
       "version_major": 2,
       "version_minor": 0
      },
      "text/plain": [
       "Canvas(toolbar=Toolbar(toolitems=[('Home', 'Reset original view', 'home', 'home'), ('Back', 'Back to previous …"
      ]
     },
     "metadata": {},
     "output_type": "display_data"
    }
   ],
   "source": [
    "start=100\n",
    "slope, intercept, rvalue, pvalue, stderr = stats.linregress(ts[start:], values[start:])\n",
    "\n",
    "\n",
    "fig, ax = plt.subplots(2, 1, sharex=True)\n",
    "ax[0].set_title(\"Fluke 732C vs. M69 ({0:0.2f} ppm/year)\".format(slope*3600*24*365 / 10))\n",
    "\n",
    "#ax[0].errorbar(times, values, yerr=stds, capsize=5)\n",
    "ax[0].plot(ts/3600, values)\n",
    "ax[0].plot(ts/3600, values, '.')\n",
    "ax[0].plot(ts[start:]/3600, ts[start:]*slope + intercept)\n",
    "ax[0].set_ylabel(\"Difference in µV\")\n",
    "ax[0].grid()\n",
    "\n",
    "ax[1].plot(ts/3600, temperature)\n",
    "ax[1].set_ylabel(\"Temperature in °C\")\n",
    "#ax[1].xaxis.set_major_formatter(mdates.DateFormatter('%Y-%m-%d %H:%M'))\n",
    "ax[1].grid()\n",
    "ax[1].set_xlabel(\"Time in h\")\n",
    "\n",
    "\n",
    "#fig.autofmt_xdate()\n",
    "plt.tight_layout()\n",
    "plt.savefig(\"M69_ltd.png\", dpi=150)"
   ]
  },
  {
   "cell_type": "code",
   "execution_count": 8,
   "id": "d81fc1f1-388a-41a8-9147-43aedeab95ed",
   "metadata": {},
   "outputs": [
    {
     "data": {
      "application/vnd.jupyter.widget-view+json": {
       "model_id": "ac48b6a2d6b54b6f87b19980d7cd67e5",
       "version_major": 2,
       "version_minor": 0
      },
      "text/plain": [
       "Canvas(toolbar=Toolbar(toolitems=[('Home', 'Reset original view', 'home', 'home'), ('Back', 'Back to previous …"
      ]
     },
     "metadata": {},
     "output_type": "display_data"
    }
   ],
   "source": [
    "fig, ax = plt.subplots(1, 1)\n",
    "plt.title(\"Fluke 732C vs. M69\")\n",
    "ax.plot(times, temperature)\n",
    "plt.ylabel(\"Temperature in °C\")\n",
    "ax.xaxis.set_major_formatter(mdates.DateFormatter('%Y-%m-%d %H:%M'))\n",
    "fig.autofmt_xdate()\n",
    "plt.tight_layout()\n",
    "plt.grid()"
   ]
  },
  {
   "cell_type": "code",
   "execution_count": 9,
   "id": "fc5be21a-0509-468f-a872-10f8377ad342",
   "metadata": {},
   "outputs": [
    {
     "data": {
      "application/vnd.jupyter.widget-view+json": {
       "model_id": "b984d1fd878d407a8bb7a4cf0c7a55ae",
       "version_major": 2,
       "version_minor": 0
      },
      "text/plain": [
       "Canvas(toolbar=Toolbar(toolitems=[('Home', 'Reset original view', 'home', 'home'), ('Back', 'Back to previous …"
      ]
     },
     "metadata": {},
     "output_type": "display_data"
    }
   ],
   "source": [
    "plt.figure()\n",
    "plt.title(\"Voltage difference vs. Temperature\")\n",
    "plt.plot(temperature, values, '.')\n",
    "plt.ylabel(\"µV\")\n",
    "plt.xlabel(\"Temperature in °C\")\n",
    "plt.grid()"
   ]
  },
  {
   "cell_type": "code",
   "execution_count": 10,
   "id": "67ebf696-42f1-4002-9918-1d1c98399ab5",
   "metadata": {},
   "outputs": [
    {
     "data": {
      "application/vnd.jupyter.widget-view+json": {
       "model_id": "baf5762617094151b997771879b0fef9",
       "version_major": 2,
       "version_minor": 0
      },
      "text/plain": [
       "Canvas(toolbar=Toolbar(toolitems=[('Home', 'Reset original view', 'home', 'home'), ('Back', 'Back to previous …"
      ]
     },
     "metadata": {},
     "output_type": "display_data"
    }
   ],
   "source": [
    "plt.figure()\n",
    "plt.title(\"M69 diff with K182 as Nullmeter (100ms integration)\")\n",
    "plt.plot( (data[\"diff\"] - np.mean(data[\"diff\"]) ) * 1e9 )\n",
    "plt.ylabel(\"nV\")\n",
    "plt.grid()"
   ]
  },
  {
   "cell_type": "code",
   "execution_count": 11,
   "id": "3d1c12dc-1f28-4437-95c3-d00d6018874c",
   "metadata": {},
   "outputs": [
    {
     "data": {
      "text/plain": [
       "142.66408062976987"
      ]
     },
     "execution_count": 11,
     "metadata": {},
     "output_type": "execute_result"
    }
   ],
   "source": [
    "np.std(data[\"diff\"] * 1e9)"
   ]
  },
  {
   "cell_type": "code",
   "execution_count": 12,
   "id": "08d2d32b-1863-422a-baa5-5ec48f2d68d3",
   "metadata": {},
   "outputs": [
    {
     "name": "stdout",
     "output_type": "stream",
     "text": [
      "data/20220912-025521_offset.xlsx\r"
     ]
    }
   ],
   "source": [
    "otimes  = []\n",
    "ovalues = []\n",
    "ostds   = []\n",
    "otemperature = []\n",
    "\n",
    "\n",
    "for filename in sorted(glob.glob(\"data/*_offset.xlsx\")):\n",
    "    print(filename, end = \"\\r\")\n",
    "    data = pd.read_excel(filename)\n",
    "    \n",
    "    otimes.append(np.mean(data[\"timestamp\"]))\n",
    "    ovalues.append(np.mean(data[\"diff\"]*1e9))\n",
    "    ostds.append( 2 * np.std(data[\"diff\"]*1e6)/len(data[\"diff\"])**0.5  )\n",
    "    #stds.append( np.std(data[\"diff\"]*1e6) )\n",
    "    otemperature.append(np.mean(data[\"temp\"]))\n"
   ]
  },
  {
   "cell_type": "code",
   "execution_count": 13,
   "id": "5ff9cb8f-e434-452f-8352-786be8cc5ca7",
   "metadata": {},
   "outputs": [
    {
     "data": {
      "application/vnd.jupyter.widget-view+json": {
       "model_id": "4f973c7996884e76ada81be5b618df6e",
       "version_major": 2,
       "version_minor": 0
      },
      "text/plain": [
       "Canvas(toolbar=Toolbar(toolitems=[('Home', 'Reset original view', 'home', 'home'), ('Back', 'Back to previous …"
      ]
     },
     "metadata": {},
     "output_type": "display_data"
    }
   ],
   "source": [
    "fig, ax = plt.subplots(2, 1, sharex=True)\n",
    "plt.title(\"Keithley 182 Offset\")\n",
    "\n",
    "#ax[0].errorbar(times, values, yerr=stds, capsize=5)\n",
    "ax[0].plot(otimes, ovalues)\n",
    "ax[0].plot(otimes, ovalues, '.')\n",
    "ax[0].set_ylabel(\"Offset in nV\")\n",
    "ax[0].grid()\n",
    "\n",
    "ax[1].plot(otimes, otemperature)\n",
    "ax[1].set_ylabel(\"Temperature in °C\")\n",
    "ax[1].xaxis.set_major_formatter(mdates.DateFormatter('%Y-%m-%d %H:%M'))\n",
    "ax[1].grid()\n",
    "\n",
    "\n",
    "fig.autofmt_xdate()\n",
    "plt.tight_layout()"
   ]
  },
  {
   "cell_type": "code",
   "execution_count": 14,
   "id": "9986b84d-9891-4957-a2b6-a9f876a0bb9d",
   "metadata": {},
   "outputs": [
    {
     "data": {
      "text/plain": [
       "9.99999928044675"
      ]
     },
     "execution_count": 14,
     "metadata": {},
     "output_type": "execute_result"
    }
   ],
   "source": [
    "M69 = F732C + values[-1]*1e-6\n",
    "M69"
   ]
  },
  {
   "cell_type": "code",
   "execution_count": 15,
   "id": "63ccf9ae-ae6c-401b-99b0-ff61d270cb2c",
   "metadata": {},
   "outputs": [
    {
     "data": {
      "text/plain": [
       "-0.0719553250760896"
      ]
     },
     "execution_count": 15,
     "metadata": {},
     "output_type": "execute_result"
    }
   ],
   "source": [
    "(M69 - 10)/10 * 1e6"
   ]
  },
  {
   "cell_type": "code",
   "execution_count": 16,
   "id": "6f58310a-a312-49c4-a704-13fb0dfdcca7",
   "metadata": {},
   "outputs": [
    {
     "data": {
      "application/vnd.jupyter.widget-view+json": {
       "model_id": "f0f23e87c8db4b8ba8814ba8d4403af3",
       "version_major": 2,
       "version_minor": 0
      },
      "text/plain": [
       "Canvas(toolbar=Toolbar(toolitems=[('Home', 'Reset original view', 'home', 'home'), ('Back', 'Back to previous …"
      ]
     },
     "metadata": {},
     "output_type": "display_data"
    }
   ],
   "source": [
    "fig, ax = plt.subplots(2, 1, sharex=True)\n",
    "plt.title(\"Fluke 732C vs. M69\")\n",
    "\n",
    "#ax[0].errorbar(times, values, yerr=stds, capsize=5)\n",
    "ax[0].get_yaxis().set_major_formatter(\n",
    "    matplotlib.ticker.FuncFormatter(lambda x, p: \"{:0.7f}\".format(x) ))\n",
    "ax[0].plot(times, F732C+values*1e-6)\n",
    "ax[0].plot(times, F732C+values*1e-6, '.')\n",
    "ax[0].set_ylabel(\"M69 in V\")\n",
    "ax[0].grid()\n",
    "\n",
    "ax[1].plot(times, temperature)\n",
    "ax[1].set_ylabel(\"Temperature in °C\")\n",
    "ax[1].xaxis.set_major_formatter(mdates.DateFormatter('%Y-%m-%d %H:%M'))\n",
    "ax[1].grid()\n",
    "\n",
    "\n",
    "fig.autofmt_xdate()\n",
    "plt.tight_layout()"
   ]
  },
  {
   "cell_type": "code",
   "execution_count": null,
   "id": "2e4ccb45-c253-427d-a305-b7dfee3e8339",
   "metadata": {},
   "outputs": [],
   "source": []
  }
 ],
 "metadata": {
  "kernelspec": {
   "display_name": "Python 3 (ipykernel)",
   "language": "python",
   "name": "python3"
  },
  "language_info": {
   "codemirror_mode": {
    "name": "ipython",
    "version": 3
   },
   "file_extension": ".py",
   "mimetype": "text/x-python",
   "name": "python",
   "nbconvert_exporter": "python",
   "pygments_lexer": "ipython3",
   "version": "3.7.3"
  }
 },
 "nbformat": 4,
 "nbformat_minor": 5
}
