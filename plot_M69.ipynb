{
 "cells": [
  {
   "cell_type": "code",
   "execution_count": 1,
   "id": "5412eef1-fa6b-426f-a7a8-1f6bd0c146f5",
   "metadata": {},
   "outputs": [],
   "source": [
    "%matplotlib widget\n",
    "import testgear\n",
    "import matplotlib.pyplot as plt\n",
    "import pandas as pd\n",
    "import numpy as np\n",
    "from scipy import stats\n",
    "import matplotlib.dates as mdates\n",
    "import glob\n",
    "import ipywidgets as widgets\n",
    "import datetime\n",
    "import time\n",
    "import matplotlib"
   ]
  },
  {
   "cell_type": "code",
   "execution_count": 2,
   "id": "95847704-edb2-484e-a040-73bfbab19433",
   "metadata": {},
   "outputs": [],
   "source": [
    "F732C = 9.9999726 #18:00"
   ]
  },
  {
   "cell_type": "code",
   "execution_count": 3,
   "id": "3793ce29-56eb-4bbb-80f7-47a2d182097c",
   "metadata": {},
   "outputs": [
    {
     "data": {
      "application/vnd.jupyter.widget-view+json": {
       "model_id": "3fc36438046047ada809c6bc9c4f73a4",
       "version_major": 2,
       "version_minor": 0
      },
      "text/plain": [
       "IntProgress(value=0, description='Loading:', max=633, style=ProgressStyle(bar_color='blue'))"
      ]
     },
     "metadata": {},
     "output_type": "display_data"
    }
   ],
   "source": [
    "files = sorted(glob.glob(\"data/*_F732C_M69.xlsx\"))\n",
    "\n",
    "bar = widgets.IntProgress(\n",
    "    value=0,\n",
    "    min=0,\n",
    "    max=len(files),\n",
    "    description='Loading:',\n",
    "    bar_style='', # 'success', 'info', 'warning', 'danger' or ''\n",
    "    style={'bar_color': 'blue'},\n",
    "    orientation='horizontal'\n",
    ")\n",
    "\n",
    "bar"
   ]
  },
  {
   "cell_type": "code",
   "execution_count": 4,
   "id": "e26b3c7b-c7ba-4d6f-b120-354a49dcac78",
   "metadata": {},
   "outputs": [
    {
     "name": "stdout",
     "output_type": "stream",
     "text": [
      "data/20230703-033021_F732C_M69.xlsx\r"
     ]
    }
   ],
   "source": [
    "times  = []\n",
    "values = []\n",
    "stds   = []\n",
    "temperature = []\n",
    "\n",
    "for filename in files:\n",
    "    bar.value +=1\n",
    "    print(filename, end = \"\\r\")\n",
    "    data = pd.read_excel(filename)\n",
    "    \n",
    "    times.append(np.mean(data[\"timestamp\"]))\n",
    "    values.append(np.mean(data[\"diff\"]*1e6))\n",
    "    stds.append( 2 * np.std(data[\"diff\"]*1e6)/len(data[\"diff\"])**0.5  )\n",
    "    #stds.append( np.std(data[\"diff\"]*1e6) )\n",
    "    temperature.append(np.mean(data[\"temp\"]))\n",
    "\n",
    "values = np.array(values)"
   ]
  },
  {
   "cell_type": "code",
   "execution_count": 5,
   "id": "667a13a3-214b-45ae-b273-094588b9360b",
   "metadata": {},
   "outputs": [],
   "source": [
    "ts = np.array([ (float(x.to_datetime64()) - float(times[0].to_datetime64())) * 1e-9 for x in times])"
   ]
  },
  {
   "cell_type": "code",
   "execution_count": 6,
   "id": "fc6dd133-c9d5-49c7-bda2-c79abebdf83d",
   "metadata": {},
   "outputs": [
    {
     "data": {
      "application/vnd.jupyter.widget-view+json": {
       "model_id": "6041ca4d8ed64d7083c8f47448f03b8e",
       "version_major": 2,
       "version_minor": 0
      },
      "text/plain": [
       "Canvas(toolbar=Toolbar(toolitems=[('Home', 'Reset original view', 'home', 'home'), ('Back', 'Back to previous …"
      ]
     },
     "metadata": {},
     "output_type": "display_data"
    }
   ],
   "source": [
    "fig, ax = plt.subplots(2, 1, sharex=True)\n",
    "plt.title(\"Fluke 732C vs. M69\")\n",
    "\n",
    "#ax[0].errorbar(times, values, yerr=stds, capsize=5)\n",
    "ax[0].plot(times, values)\n",
    "ax[0].plot(times, values, '.')\n",
    "ax[0].set_ylabel(\"Difference in µV\")\n",
    "ax[0].grid()\n",
    "\n",
    "ax[1].plot(times, temperature)\n",
    "ax[1].set_ylabel(\"Temperature in °C\")\n",
    "ax[1].xaxis.set_major_formatter(mdates.DateFormatter('%Y-%m-%d'))\n",
    "ax[1].grid()\n",
    "\n",
    "\n",
    "fig.autofmt_xdate()\n",
    "plt.tight_layout()\n",
    "plt.savefig(\"M69.png\", dpi=150)\n"
   ]
  },
  {
   "cell_type": "code",
   "execution_count": 7,
   "id": "bce0e049-9dcb-4b50-9b19-504ec54d129e",
   "metadata": {},
   "outputs": [
    {
     "data": {
      "application/vnd.jupyter.widget-view+json": {
       "model_id": "9f103dd72bec485bbf2d8e887d18260b",
       "version_major": 2,
       "version_minor": 0
      },
      "text/plain": [
       "Canvas(toolbar=Toolbar(toolitems=[('Home', 'Reset original view', 'home', 'home'), ('Back', 'Back to previous …"
      ]
     },
     "metadata": {},
     "output_type": "display_data"
    }
   ],
   "source": [
    "start=200\n",
    "slope, intercept, rvalue, pvalue, stderr = stats.linregress(ts[start:], values[start:])\n",
    "\n",
    "\n",
    "fig, ax = plt.subplots(2, 1, sharex=True)\n",
    "ax[0].set_title(\"Fluke 732C vs. M69 ({0:0.2f} ppm/year)\".format(slope*3600*24*365 / 10))\n",
    "\n",
    "#ax[0].errorbar(times, values, yerr=stds, capsize=5)\n",
    "ax[0].plot(ts/3600, values)\n",
    "ax[0].plot(ts/3600, values, '.')\n",
    "ax[0].plot(ts[start:]/3600, ts[start:]*slope + intercept)\n",
    "ax[0].set_ylabel(\"Difference in µV\")\n",
    "ax[0].grid()\n",
    "\n",
    "ax[1].plot(ts/3600, temperature)\n",
    "ax[1].set_ylabel(\"Temperature in °C\")\n",
    "#ax[1].xaxis.set_major_formatter(mdates.DateFormatter('%Y-%m-%d %H:%M'))\n",
    "ax[1].grid()\n",
    "ax[1].set_xlabel(\"Time in h\")\n",
    "\n",
    "\n",
    "#fig.autofmt_xdate()\n",
    "plt.tight_layout()\n",
    "plt.savefig(\"M69_ltd.png\", dpi=150)"
   ]
  },
  {
   "cell_type": "code",
   "execution_count": 8,
   "id": "d81fc1f1-388a-41a8-9147-43aedeab95ed",
   "metadata": {},
   "outputs": [
    {
     "data": {
      "application/vnd.jupyter.widget-view+json": {
       "model_id": "28c1e8bd60bc4fe395e18f85147a9c4e",
       "version_major": 2,
       "version_minor": 0
      },
      "text/plain": [
       "Canvas(toolbar=Toolbar(toolitems=[('Home', 'Reset original view', 'home', 'home'), ('Back', 'Back to previous …"
      ]
     },
     "metadata": {},
     "output_type": "display_data"
    }
   ],
   "source": [
    "fig, ax = plt.subplots(1, 1)\n",
    "plt.title(\"Fluke 732C vs. M69\")\n",
    "ax.plot(times, temperature)\n",
    "plt.ylabel(\"Temperature in °C\")\n",
    "ax.xaxis.set_major_formatter(mdates.DateFormatter('%Y-%m-%d %H:%M'))\n",
    "fig.autofmt_xdate()\n",
    "plt.tight_layout()\n",
    "plt.grid()"
   ]
  },
  {
   "cell_type": "code",
   "execution_count": 9,
   "id": "fc5be21a-0509-468f-a872-10f8377ad342",
   "metadata": {},
   "outputs": [
    {
     "data": {
      "application/vnd.jupyter.widget-view+json": {
       "model_id": "78154d81c26e45c9bc06257b62c92ebd",
       "version_major": 2,
       "version_minor": 0
      },
      "text/plain": [
       "Canvas(toolbar=Toolbar(toolitems=[('Home', 'Reset original view', 'home', 'home'), ('Back', 'Back to previous …"
      ]
     },
     "metadata": {},
     "output_type": "display_data"
    }
   ],
   "source": [
    "plt.figure()\n",
    "plt.title(\"Voltage difference vs. Temperature\")\n",
    "plt.plot(temperature, values, '.')\n",
    "plt.ylabel(\"µV\")\n",
    "plt.xlabel(\"Temperature in °C\")\n",
    "plt.grid()"
   ]
  },
  {
   "cell_type": "code",
   "execution_count": 10,
   "id": "67ebf696-42f1-4002-9918-1d1c98399ab5",
   "metadata": {},
   "outputs": [
    {
     "data": {
      "application/vnd.jupyter.widget-view+json": {
       "model_id": "0f6aa7483b1d4d048662031302cd4dbe",
       "version_major": 2,
       "version_minor": 0
      },
      "text/plain": [
       "Canvas(toolbar=Toolbar(toolitems=[('Home', 'Reset original view', 'home', 'home'), ('Back', 'Back to previous …"
      ]
     },
     "metadata": {},
     "output_type": "display_data"
    }
   ],
   "source": [
    "plt.figure()\n",
    "plt.title(\"M69 diff with K182 as Nullmeter (100ms integration)\")\n",
    "plt.plot( (data[\"diff\"] - np.mean(data[\"diff\"]) ) * 1e9 )\n",
    "plt.ylabel(\"nV\")\n",
    "plt.grid()"
   ]
  },
  {
   "cell_type": "code",
   "execution_count": 11,
   "id": "3d1c12dc-1f28-4437-95c3-d00d6018874c",
   "metadata": {},
   "outputs": [
    {
     "data": {
      "text/plain": [
       "128.09219569293612"
      ]
     },
     "execution_count": 11,
     "metadata": {},
     "output_type": "execute_result"
    }
   ],
   "source": [
    "np.std(data[\"diff\"] * 1e9)"
   ]
  },
  {
   "cell_type": "code",
   "execution_count": 12,
   "id": "08d2d32b-1863-422a-baa5-5ec48f2d68d3",
   "metadata": {},
   "outputs": [
    {
     "name": "stdout",
     "output_type": "stream",
     "text": [
      "data/20231009-201457_offset.xlsx\r"
     ]
    }
   ],
   "source": [
    "otimes  = []\n",
    "ovalues = []\n",
    "ostds   = []\n",
    "otemperature = []\n",
    "\n",
    "\n",
    "for filename in sorted(glob.glob(\"data/*_offset.xlsx\")):\n",
    "    print(filename, end = \"\\r\")\n",
    "    data = pd.read_excel(filename)\n",
    "    \n",
    "    otimes.append(np.mean(data[\"timestamp\"]))\n",
    "    ovalues.append(np.mean(data[\"diff\"]*1e9))\n",
    "    ostds.append( 2 * np.std(data[\"diff\"]*1e6)/len(data[\"diff\"])**0.5  )\n",
    "    #stds.append( np.std(data[\"diff\"]*1e6) )\n",
    "    otemperature.append(np.mean(data[\"temp\"]))\n"
   ]
  },
  {
   "cell_type": "code",
   "execution_count": 13,
   "id": "5ff9cb8f-e434-452f-8352-786be8cc5ca7",
   "metadata": {},
   "outputs": [
    {
     "data": {
      "application/vnd.jupyter.widget-view+json": {
       "model_id": "034821d2953645afb1f0622ee3b79fa2",
       "version_major": 2,
       "version_minor": 0
      },
      "text/plain": [
       "Canvas(toolbar=Toolbar(toolitems=[('Home', 'Reset original view', 'home', 'home'), ('Back', 'Back to previous …"
      ]
     },
     "metadata": {},
     "output_type": "display_data"
    }
   ],
   "source": [
    "fig, ax = plt.subplots(2, 1, sharex=True)\n",
    "plt.title(\"Keithley 182 Offset\")\n",
    "\n",
    "#ax[0].errorbar(times, values, yerr=stds, capsize=5)\n",
    "ax[0].plot(otimes, ovalues)\n",
    "ax[0].plot(otimes, ovalues, '.')\n",
    "ax[0].set_ylabel(\"Offset in nV\")\n",
    "ax[0].grid()\n",
    "\n",
    "ax[1].plot(otimes, otemperature)\n",
    "ax[1].set_ylabel(\"Temperature in °C\")\n",
    "ax[1].xaxis.set_major_formatter(mdates.DateFormatter('%Y-%m-%d %H:%M'))\n",
    "ax[1].grid()\n",
    "\n",
    "\n",
    "fig.autofmt_xdate()\n",
    "plt.tight_layout()"
   ]
  },
  {
   "cell_type": "code",
   "execution_count": 14,
   "id": "9986b84d-9891-4957-a2b6-a9f876a0bb9d",
   "metadata": {},
   "outputs": [
    {
     "data": {
      "text/plain": [
       "9.99999795991775"
      ]
     },
     "execution_count": 14,
     "metadata": {},
     "output_type": "execute_result"
    }
   ],
   "source": [
    "M69 = F732C + values[-1]*1e-6\n",
    "M69"
   ]
  },
  {
   "cell_type": "code",
   "execution_count": 15,
   "id": "63ccf9ae-ae6c-401b-99b0-ff61d270cb2c",
   "metadata": {},
   "outputs": [
    {
     "data": {
      "text/plain": [
       "-0.20400822506871918"
      ]
     },
     "execution_count": 15,
     "metadata": {},
     "output_type": "execute_result"
    }
   ],
   "source": [
    "(M69 - 10)/10 * 1e6"
   ]
  },
  {
   "cell_type": "code",
   "execution_count": 16,
   "id": "6f58310a-a312-49c4-a704-13fb0dfdcca7",
   "metadata": {},
   "outputs": [
    {
     "data": {
      "application/vnd.jupyter.widget-view+json": {
       "model_id": "64e7acf925d94a12bcdb6f5ee686ba65",
       "version_major": 2,
       "version_minor": 0
      },
      "text/plain": [
       "Canvas(toolbar=Toolbar(toolitems=[('Home', 'Reset original view', 'home', 'home'), ('Back', 'Back to previous …"
      ]
     },
     "metadata": {},
     "output_type": "display_data"
    }
   ],
   "source": [
    "fig, ax = plt.subplots(2, 1, sharex=True)\n",
    "plt.title(\"Fluke 732C vs. M69\")\n",
    "\n",
    "#ax[0].errorbar(times, values, yerr=stds, capsize=5)\n",
    "ax[0].get_yaxis().set_major_formatter(\n",
    "    matplotlib.ticker.FuncFormatter(lambda x, p: \"{:0.7f}\".format(x) ))\n",
    "ax[0].plot(times, F732C+values*1e-6)\n",
    "ax[0].plot(times, F732C+values*1e-6, '.')\n",
    "ax[0].set_ylabel(\"M69 in V\")\n",
    "ax[0].grid()\n",
    "\n",
    "ax[1].plot(times, temperature)\n",
    "ax[1].set_ylabel(\"Temperature in °C\")\n",
    "ax[1].xaxis.set_major_formatter(mdates.DateFormatter('%Y-%m-%d %H:%M'))\n",
    "ax[1].grid()\n",
    "\n",
    "\n",
    "fig.autofmt_xdate()\n",
    "plt.tight_layout()"
   ]
  },
  {
   "cell_type": "code",
   "execution_count": 17,
   "id": "ac308f75-eeba-4fdf-b98b-37068ac667eb",
   "metadata": {},
   "outputs": [
    {
     "data": {
      "text/plain": [
       "16.5"
      ]
     },
     "execution_count": 17,
     "metadata": {},
     "output_type": "execute_result"
    }
   ],
   "source": [
    "0.66/0.04"
   ]
  },
  {
   "cell_type": "code",
   "execution_count": 18,
   "id": "5d803ac9-7d57-4399-b06f-2ad63100b22e",
   "metadata": {},
   "outputs": [
    {
     "data": {
      "text/plain": [
       "14.75"
      ]
     },
     "execution_count": 18,
     "metadata": {},
     "output_type": "execute_result"
    }
   ],
   "source": [
    "1.77/0.12"
   ]
  },
  {
   "cell_type": "code",
   "execution_count": 19,
   "id": "b2fc5df9-199f-4244-a64b-34ca2bee1222",
   "metadata": {},
   "outputs": [
    {
     "data": {
      "text/plain": [
       "26.666666666666668"
      ]
     },
     "execution_count": 19,
     "metadata": {},
     "output_type": "execute_result"
    }
   ],
   "source": [
    "400/15"
   ]
  },
  {
   "cell_type": "code",
   "execution_count": null,
   "id": "922f1665-dd10-475c-8598-fe17eac8a06a",
   "metadata": {},
   "outputs": [],
   "source": []
  }
 ],
 "metadata": {
  "kernelspec": {
   "display_name": "Python 3 (ipykernel)",
   "language": "python",
   "name": "python3"
  },
  "language_info": {
   "codemirror_mode": {
    "name": "ipython",
    "version": 3
   },
   "file_extension": ".py",
   "mimetype": "text/x-python",
   "name": "python",
   "nbconvert_exporter": "python",
   "pygments_lexer": "ipython3",
   "version": "3.7.3"
  }
 },
 "nbformat": 4,
 "nbformat_minor": 5
}
