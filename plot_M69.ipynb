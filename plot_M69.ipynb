{
 "cells": [
  {
   "cell_type": "code",
   "execution_count": 1,
   "id": "5412eef1-fa6b-426f-a7a8-1f6bd0c146f5",
   "metadata": {},
   "outputs": [],
   "source": [
    "%matplotlib widget\n",
    "import testgear\n",
    "import matplotlib.pyplot as plt\n",
    "import pandas as pd\n",
    "import numpy as np\n",
    "from scipy import stats\n",
    "import matplotlib.dates as mdates\n",
    "import glob\n",
    "import ipywidgets as widgets\n",
    "import datetime\n",
    "import time\n",
    "import matplotlib"
   ]
  },
  {
   "cell_type": "code",
   "execution_count": 2,
   "id": "95847704-edb2-484e-a040-73bfbab19433",
   "metadata": {},
   "outputs": [],
   "source": [
    "#F732C = 9.9999726 #18:00"
   ]
  },
  {
   "cell_type": "markdown",
   "id": "d69ed864-b421-4656-9268-d53270573312",
   "metadata": {},
   "source": [
    "# Daten einlesen"
   ]
  },
  {
   "cell_type": "code",
   "execution_count": 3,
   "id": "3793ce29-56eb-4bbb-80f7-47a2d182097c",
   "metadata": {},
   "outputs": [
    {
     "data": {
      "application/vnd.jupyter.widget-view+json": {
       "model_id": "351636e184e24e89b93b83ee2f8d2296",
       "version_major": 2,
       "version_minor": 0
      },
      "text/plain": [
       "IntProgress(value=0, description='Loading:', max=891, style=ProgressStyle(bar_color='blue'))"
      ]
     },
     "metadata": {},
     "output_type": "display_data"
    }
   ],
   "source": [
    "files = sorted(glob.glob(\"data/*_F732C_M69.xlsx\"))\n",
    "\n",
    "bar = widgets.IntProgress(\n",
    "    value=0,\n",
    "    min=0,\n",
    "    max=len(files),\n",
    "    description='Loading:',\n",
    "    bar_style='', # 'success', 'info', 'warning', 'danger' or ''\n",
    "    style={'bar_color': 'blue'},\n",
    "    orientation='horizontal'\n",
    ")\n",
    "\n",
    "bar"
   ]
  },
  {
   "cell_type": "code",
   "execution_count": null,
   "id": "e26b3c7b-c7ba-4d6f-b120-354a49dcac78",
   "metadata": {},
   "outputs": [
    {
     "name": "stdout",
     "output_type": "stream",
     "text": [
      "data/20240831-040027_F732C_M69.xlsx\r"
     ]
    }
   ],
   "source": [
    "times  = []\n",
    "values = []\n",
    "stds   = []\n",
    "temperature = []\n",
    "\n",
    "for filename in files:\n",
    "    bar.value +=1\n",
    "    print(filename, end = \"\\r\")\n",
    "    data = pd.read_excel(filename)\n",
    "    \n",
    "    times.append(np.mean(data[\"timestamp\"]))\n",
    "    values.append(np.mean(data[\"diff\"]*1e6))\n",
    "    stds.append( 2 * np.std(data[\"diff\"]*1e6)/len(data[\"diff\"])**0.5  )\n",
    "    #stds.append( np.std(data[\"diff\"]*1e6) )\n",
    "    temperature.append(np.mean(data[\"temp\"]))\n",
    "\n",
    "values = np.array(values)"
   ]
  },
  {
   "cell_type": "code",
   "execution_count": null,
   "id": "667a13a3-214b-45ae-b273-094588b9360b",
   "metadata": {},
   "outputs": [],
   "source": [
    "# Zeitstempel in Sekunden umrechnen\n",
    "ts = np.array([ (float(x.to_datetime64()) - float(times[0].to_datetime64())) * 1e-9 for x in times])"
   ]
  },
  {
   "cell_type": "markdown",
   "id": "8449ae94-9016-4680-82b2-3bac587543ac",
   "metadata": {},
   "source": [
    "# Differenzen plotten"
   ]
  },
  {
   "cell_type": "code",
   "execution_count": null,
   "id": "04e60c78-20f6-4e41-b6d5-b5d42bcd4f83",
   "metadata": {
    "tags": []
   },
   "outputs": [],
   "source": [
    "fig, ax = plt.subplots(1, 1, sharex=True)\n",
    "plt.title(\"Fluke 732C vs. M69\")\n",
    "\n",
    "#ax[0].errorbar(times, values, yerr=stds, capsize=5)\n",
    "#ax.plot(times, values)\n",
    "ax.plot(times, values, '.', alpha=0.8)\n",
    "ax.set_ylabel(\"Difference in µV\")\n",
    "ax.grid()\n",
    "\n",
    "\n",
    "fig.autofmt_xdate()\n",
    "plt.tight_layout()\n",
    "#plt.savefig(\"M69.png\", dpi=150)"
   ]
  },
  {
   "cell_type": "code",
   "execution_count": null,
   "id": "bc490c82-4c3f-47a6-84c2-7dd8de780eb2",
   "metadata": {
    "tags": []
   },
   "outputs": [],
   "source": [
    "start=250\n",
    "slope, intercept, rvalue, pvalue, stderr = stats.linregress(ts[start:], values[start:])\n",
    "\n",
    "fig, ax = plt.subplots(1, 1, sharex=True)\n",
    "ax.set_title(\"Fluke 732C vs. M69 ({0:0.2f} ppm/year)\".format(slope*3600*24*365 / 10))\n",
    "\n",
    "#ax[0].errorbar(times, values, yerr=stds, capsize=5)\n",
    "#ax[0].plot(ts/3600, values)\n",
    "ax.plot(ts[start:]/3600/24, values[start:], '.')\n",
    "ax.plot(ts[start:]/3600/24, ts[start:]*slope + intercept)\n",
    "ax.set_ylabel(\"Difference in µV\")\n",
    "\n",
    "ax.set_xlabel(\"Days of comparision\")\n",
    "\n",
    "ax.grid()\n",
    "\n",
    "\n",
    "#fig.autofmt_xdate()\n",
    "plt.tight_layout()\n",
    "#plt.savefig(\"M69_ltd.png\", dpi=150)"
   ]
  },
  {
   "cell_type": "code",
   "execution_count": null,
   "id": "fc5be21a-0509-468f-a872-10f8377ad342",
   "metadata": {},
   "outputs": [],
   "source": [
    "plt.figure()\n",
    "plt.title(\"Voltage difference vs. Temperature\")\n",
    "plt.plot(temperature, values, '.')\n",
    "plt.ylabel(\"µV\")\n",
    "plt.xlabel(\"Temperature in °C\")\n",
    "plt.grid()"
   ]
  },
  {
   "cell_type": "code",
   "execution_count": null,
   "id": "67ebf696-42f1-4002-9918-1d1c98399ab5",
   "metadata": {},
   "outputs": [],
   "source": [
    "plt.figure()\n",
    "plt.title(\"last M69 diff with K182 as Nullmeter (100ms integration)\")\n",
    "plt.plot( (data[\"diff\"] - np.mean(data[\"diff\"]) ) * 1e9 )\n",
    "plt.ylabel(\"nV\")\n",
    "plt.grid()"
   ]
  },
  {
   "cell_type": "markdown",
   "id": "d17c84e3-b1f4-4db6-bd37-5674a7a54c1d",
   "metadata": {},
   "source": [
    "# Offsetmessungen mit K182"
   ]
  },
  {
   "cell_type": "code",
   "execution_count": null,
   "id": "08d2d32b-1863-422a-baa5-5ec48f2d68d3",
   "metadata": {},
   "outputs": [],
   "source": [
    "otimes  = []\n",
    "ovalues = []\n",
    "ostds   = []\n",
    "otemperature = []\n",
    "\n",
    "\n",
    "for filename in sorted(glob.glob(\"data/*_offset.xlsx\")):\n",
    "    print(filename, end = \"\\r\")\n",
    "    data = pd.read_excel(filename)\n",
    "    \n",
    "    otimes.append(np.mean(data[\"timestamp\"]))\n",
    "    ovalues.append(np.mean(data[\"diff\"]*1e9))\n",
    "    ostds.append( 2 * np.std(data[\"diff\"]*1e6)/len(data[\"diff\"])**0.5  )\n",
    "    #stds.append( np.std(data[\"diff\"]*1e6) )\n",
    "    otemperature.append(np.mean(data[\"temp\"]))\n"
   ]
  },
  {
   "cell_type": "code",
   "execution_count": null,
   "id": "5ff9cb8f-e434-452f-8352-786be8cc5ca7",
   "metadata": {},
   "outputs": [],
   "source": [
    "fig, ax = plt.subplots(2, 1, sharex=True)\n",
    "plt.title(\"Keithley 182 Offset\")\n",
    "\n",
    "#ax[0].errorbar(times, values, yerr=stds, capsize=5)\n",
    "ax[0].plot(otimes, ovalues)\n",
    "ax[0].plot(otimes, ovalues, '.')\n",
    "ax[0].set_ylabel(\"Offset in nV\")\n",
    "ax[0].grid()\n",
    "\n",
    "ax[1].plot(otimes, otemperature)\n",
    "ax[1].set_ylabel(\"Temperature in °C\")\n",
    "ax[1].xaxis.set_major_formatter(mdates.DateFormatter('%Y-%m-%d %H:%M'))\n",
    "ax[1].grid()\n",
    "\n",
    "\n",
    "fig.autofmt_xdate()\n",
    "plt.tight_layout()"
   ]
  },
  {
   "cell_type": "markdown",
   "id": "66712527-df16-4535-835c-40c5a09688d6",
   "metadata": {
    "tags": []
   },
   "source": [
    "# Fluke 732C Kalibrierdaten einlesen"
   ]
  },
  {
   "cell_type": "code",
   "execution_count": null,
   "id": "160d2ba3-1f48-435c-b673-45fdfed22a7c",
   "metadata": {},
   "outputs": [],
   "source": [
    "fluke732c = pd.read_excel(\"Fluke_732C.xlsx\")\n",
    "fluke732c"
   ]
  },
  {
   "cell_type": "code",
   "execution_count": null,
   "id": "a9bb38ee-5487-4dcd-a731-5371edfcc150",
   "metadata": {
    "tags": []
   },
   "outputs": [],
   "source": [
    "t_f732c = np.array([ (float(x.to_datetime64()) - float(times[0].to_datetime64())) * 1e-9 for x in fluke732c[\"cal date\"]])\n",
    "m_f732c, b_f732c, rvalue, pvalue, stderr = stats.linregress(t_f732c, fluke732c[\"value\"])"
   ]
  },
  {
   "cell_type": "code",
   "execution_count": null,
   "id": "34d84b8a-603e-45c3-8f98-942b04f7aeaf",
   "metadata": {
    "tags": []
   },
   "outputs": [],
   "source": [
    "fit_error = (fluke732c[\"value\"] - (t_f732c*m_f732c + b_f732c)) / 10 * 1e9\n",
    "\n",
    "f732c_value = ts * m_f732c + b_f732c\n",
    "\n",
    "fig, ax = plt.subplots(2, 1, sharex=True)\n",
    "ax[0].set_title(\"Fluke 732C calibration\")\n",
    "ax[0].plot(t_f732c/3600, t_f732c*m_f732c + b_f732c)\n",
    "ax[0].plot(t_f732c/3600, fluke732c[\"value\"], 'o')\n",
    "ax[0].set_ylabel(\"Voltage in V\")\n",
    "ax[0].grid()\n",
    "\n",
    "ax[1].set_ylabel(\"residual in ppb\")\n",
    "ax[1].plot(t_f732c/3600, fit_error, '.')\n",
    "ax[1].set_xlabel(\"Time in h\")\n",
    "ax[1].grid()\n"
   ]
  },
  {
   "cell_type": "markdown",
   "id": "72901a86-34a2-4a65-bd3f-a3beb7a03453",
   "metadata": {},
   "source": [
    "# Absolute Spannung M69"
   ]
  },
  {
   "cell_type": "code",
   "execution_count": null,
   "id": "c2c419b3-d283-4d57-86a0-afa6f1456545",
   "metadata": {
    "tags": []
   },
   "outputs": [],
   "source": [
    "m69_value   = f732c_value + values*1e-6\n",
    "\n",
    "plt.figure()\n",
    "plt.title(\"M69 absolute voltage\")\n",
    "plt.plot(ts/3600, m69_value, '.')\n",
    "plt.ylabel(\"Voltage in V\")\n",
    "plt.xlabel(\"Time in h\")\n",
    "plt.grid()"
   ]
  },
  {
   "cell_type": "code",
   "execution_count": null,
   "id": "0d6e98d7-5598-463e-9906-93296bf09f0c",
   "metadata": {
    "tags": []
   },
   "outputs": [],
   "source": [
    "m69_ref   = 9.99999802\n",
    "f732c_ref = 5000*3600 * m_f732c + b_f732c\n",
    "\n",
    "m69_rel = (m69_value - m69_ref)/m69_ref * 1e6\n",
    "\n",
    "plt.figure()\n",
    "plt.title(\"M69 long term drift\")\n",
    "plt.plot(ts/3600, m69_rel, '.', alpha=0.5, label=\"M69\")\n",
    "plt.plot(t_f732c/3600, (fluke732c[\"value\"]-f732c_ref)/f732c_ref*1e6, 'o', label=\"Fluke 732C calibration\")\n",
    "plt.legend()\n",
    "plt.ylabel(\"ppm\")\n",
    "plt.xlabel(\"Time in h\")\n",
    "plt.grid()\n",
    "plt.savefig(\"M69_drift.png\", dpi=150)"
   ]
  },
  {
   "cell_type": "code",
   "execution_count": null,
   "id": "f1af7d9f-6a13-45da-a27e-40894a75e976",
   "metadata": {
    "tags": []
   },
   "outputs": [],
   "source": [
    "#fit V/s\n",
    "m_f732c"
   ]
  },
  {
   "cell_type": "code",
   "execution_count": null,
   "id": "5cd91b40-94b9-4c80-9e23-c9d6a0f1796c",
   "metadata": {
    "tags": []
   },
   "outputs": [],
   "source": [
    "m_f732c * 3600 * 24 * 365 /10 *1e6"
   ]
  },
  {
   "cell_type": "code",
   "execution_count": null,
   "id": "599d0157-bb01-4447-af1f-65c743828911",
   "metadata": {},
   "outputs": [],
   "source": []
  }
 ],
 "metadata": {
  "kernelspec": {
   "display_name": "Python 3 (ipykernel)",
   "language": "python",
   "name": "python3"
  },
  "language_info": {
   "codemirror_mode": {
    "name": "ipython",
    "version": 3
   },
   "file_extension": ".py",
   "mimetype": "text/x-python",
   "name": "python",
   "nbconvert_exporter": "python",
   "pygments_lexer": "ipython3",
   "version": "3.7.3"
  }
 },
 "nbformat": 4,
 "nbformat_minor": 5
}
