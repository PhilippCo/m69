{
 "cells": [
  {
   "cell_type": "code",
   "execution_count": 1,
   "id": "5412eef1-fa6b-426f-a7a8-1f6bd0c146f5",
   "metadata": {},
   "outputs": [],
   "source": [
    "%matplotlib widget\n",
    "import testgear\n",
    "import matplotlib.pyplot as plt\n",
    "import pandas as pd\n",
    "import numpy as np\n",
    "from scipy import stats\n",
    "import matplotlib.dates as mdates\n",
    "import glob\n",
    "import ipywidgets as widgets\n",
    "import datetime\n",
    "import time\n",
    "import matplotlib"
   ]
  },
  {
   "cell_type": "code",
   "execution_count": 2,
   "id": "95847704-edb2-484e-a040-73bfbab19433",
   "metadata": {},
   "outputs": [],
   "source": [
    "F732C = 9.9999726 #18:00"
   ]
  },
  {
   "cell_type": "code",
   "execution_count": 3,
   "id": "3793ce29-56eb-4bbb-80f7-47a2d182097c",
   "metadata": {},
   "outputs": [
    {
     "data": {
      "application/vnd.jupyter.widget-view+json": {
       "model_id": "d04b355289084314b398774a192ca5c2",
       "version_major": 2,
       "version_minor": 0
      },
      "text/plain": [
       "IntProgress(value=0, description='Loading:', max=770, style=ProgressStyle(bar_color='blue'))"
      ]
     },
     "metadata": {},
     "output_type": "display_data"
    }
   ],
   "source": [
    "files = sorted(glob.glob(\"data/*_F732C_M69.xlsx\"))\n",
    "\n",
    "bar = widgets.IntProgress(\n",
    "    value=0,\n",
    "    min=0,\n",
    "    max=len(files),\n",
    "    description='Loading:',\n",
    "    bar_style='', # 'success', 'info', 'warning', 'danger' or ''\n",
    "    style={'bar_color': 'blue'},\n",
    "    orientation='horizontal'\n",
    ")\n",
    "\n",
    "bar"
   ]
  },
  {
   "cell_type": "code",
   "execution_count": 4,
   "id": "e26b3c7b-c7ba-4d6f-b120-354a49dcac78",
   "metadata": {},
   "outputs": [
    {
     "name": "stdout",
     "output_type": "stream",
     "text": [
      "data/20240813-040039_F732C_M69.xlsx\r"
     ]
    }
   ],
   "source": [
    "times  = []\n",
    "values = []\n",
    "stds   = []\n",
    "temperature = []\n",
    "\n",
    "for filename in files:\n",
    "    bar.value +=1\n",
    "    print(filename, end = \"\\r\")\n",
    "    data = pd.read_excel(filename)\n",
    "    \n",
    "    times.append(np.mean(data[\"timestamp\"]))\n",
    "    values.append(np.mean(data[\"diff\"]*1e6))\n",
    "    stds.append( 2 * np.std(data[\"diff\"]*1e6)/len(data[\"diff\"])**0.5  )\n",
    "    #stds.append( np.std(data[\"diff\"]*1e6) )\n",
    "    temperature.append(np.mean(data[\"temp\"]))\n",
    "\n",
    "values = np.array(values)"
   ]
  },
  {
   "cell_type": "code",
   "execution_count": 5,
   "id": "667a13a3-214b-45ae-b273-094588b9360b",
   "metadata": {},
   "outputs": [],
   "source": [
    "ts = np.array([ (float(x.to_datetime64()) - float(times[0].to_datetime64())) * 1e-9 for x in times])"
   ]
  },
  {
   "cell_type": "code",
   "execution_count": null,
   "id": "fc6dd133-c9d5-49c7-bda2-c79abebdf83d",
   "metadata": {},
   "outputs": [],
   "source": [
    "fig, ax = plt.subplots(2, 1, sharex=True)\n",
    "plt.title(\"Fluke 732C vs. M69\")\n",
    "\n",
    "#ax[0].errorbar(times, values, yerr=stds, capsize=5)\n",
    "ax[0].plot(times, values)\n",
    "ax[0].plot(times, values, '.')\n",
    "ax[0].set_ylabel(\"Difference in µV\")\n",
    "ax[0].axvline(datetime.datetime.strptime('2023-12-20 18:38:00', '%Y-%m-%d %H:%M:%S'), color=\"red\")\n",
    "ax[0].axvline(datetime.datetime.strptime('2023-12-22 21:37:00', '%Y-%m-%d %H:%M:%S'), color=\"green\")\n",
    "ax[0].grid()\n",
    "\n",
    "ax[1].plot(times, temperature)\n",
    "ax[1].set_ylabel(\"Temperature in °C\")\n",
    "ax[1].xaxis.set_major_formatter(mdates.DateFormatter('%Y-%m-%d'))\n",
    "ax[1].grid()\n",
    "\n",
    "\n",
    "fig.autofmt_xdate()\n",
    "plt.tight_layout()\n",
    "plt.savefig(\"M69.png\", dpi=150)\n"
   ]
  },
  {
   "cell_type": "code",
   "execution_count": null,
   "id": "04e60c78-20f6-4e41-b6d5-b5d42bcd4f83",
   "metadata": {
    "tags": []
   },
   "outputs": [],
   "source": [
    "fig, ax = plt.subplots(1, 1, sharex=True)\n",
    "plt.title(\"Fluke 732C vs. M69\")\n",
    "\n",
    "#ax[0].errorbar(times, values, yerr=stds, capsize=5)\n",
    "#ax.plot(times, values)\n",
    "ax.plot(times, values, '.', alpha=0.8)\n",
    "ax.set_ylabel(\"Difference in µV\")\n",
    "ax.grid()\n",
    "\n",
    "\n",
    "fig.autofmt_xdate()\n",
    "plt.tight_layout()\n",
    "#plt.savefig(\"M69.png\", dpi=150)"
   ]
  },
  {
   "cell_type": "code",
   "execution_count": null,
   "id": "53d98fdf-c404-4abc-a701-0f13ddfe8c4d",
   "metadata": {
    "tags": []
   },
   "outputs": [],
   "source": [
    "np.mean(values[-100:])"
   ]
  },
  {
   "cell_type": "code",
   "execution_count": null,
   "id": "1f554dc3-7ba1-42da-ac70-75f6f94bd11f",
   "metadata": {
    "tags": []
   },
   "outputs": [],
   "source": [
    "np.std(values[-100:])"
   ]
  },
  {
   "cell_type": "code",
   "execution_count": null,
   "id": "bce0e049-9dcb-4b50-9b19-504ec54d129e",
   "metadata": {},
   "outputs": [],
   "source": [
    "start=200\n",
    "slope, intercept, rvalue, pvalue, stderr = stats.linregress(ts[start:], values[start:])\n",
    "\n",
    "\n",
    "fig, ax = plt.subplots(2, 1, sharex=True)\n",
    "ax[0].set_title(\"Fluke 732C vs. M69 ({0:0.2f} ppm/year)\".format(slope*3600*24*365 / 10))\n",
    "\n",
    "#ax[0].errorbar(times, values, yerr=stds, capsize=5)\n",
    "ax[0].plot(ts/3600, values)\n",
    "ax[0].plot(ts/3600, values, '.')\n",
    "ax[0].plot(ts[start:]/3600, ts[start:]*slope + intercept)\n",
    "ax[0].set_ylabel(\"Difference in µV\")\n",
    "ax[0].grid()\n",
    "\n",
    "ax[1].plot(ts/3600, temperature)\n",
    "ax[1].set_ylabel(\"Temperature in °C\")\n",
    "#ax[1].xaxis.set_major_formatter(mdates.DateFormatter('%Y-%m-%d %H:%M'))\n",
    "ax[1].grid()\n",
    "ax[1].set_xlabel(\"Time in h\")\n",
    "\n",
    "\n",
    "#fig.autofmt_xdate()\n",
    "plt.tight_layout()\n",
    "plt.savefig(\"M69_ltd.png\", dpi=150)"
   ]
  },
  {
   "cell_type": "code",
   "execution_count": null,
   "id": "bc490c82-4c3f-47a6-84c2-7dd8de780eb2",
   "metadata": {
    "tags": []
   },
   "outputs": [],
   "source": [
    "start=250\n",
    "slope, intercept, rvalue, pvalue, stderr = stats.linregress(ts[start:], values[start:])\n",
    "\n",
    "\n",
    "fig, ax = plt.subplots(1, 1, sharex=True)\n",
    "ax.set_title(\"Fluke 732C vs. M69 ({0:0.2f} ppm/year)\".format(slope*3600*24*365 / 10))\n",
    "\n",
    "#ax[0].errorbar(times, values, yerr=stds, capsize=5)\n",
    "#ax[0].plot(ts/3600, values)\n",
    "ax.plot(ts[start:]/3600/24, values[start:], '.')\n",
    "ax.plot(ts[start:]/3600/24, ts[start:]*slope + intercept)\n",
    "ax.set_ylabel(\"Difference in µV\")\n",
    "\n",
    "ax.set_xlabel(\"Days of comparision\")\n",
    "\n",
    "ax.grid()\n",
    "\n",
    "\n",
    "#fig.autofmt_xdate()\n",
    "plt.tight_layout()\n",
    "plt.savefig(\"M69_ltd.png\", dpi=150)"
   ]
  },
  {
   "cell_type": "code",
   "execution_count": null,
   "id": "d81fc1f1-388a-41a8-9147-43aedeab95ed",
   "metadata": {},
   "outputs": [],
   "source": [
    "fig, ax = plt.subplots(1, 1)\n",
    "plt.title(\"Fluke 732C vs. M69\")\n",
    "ax.plot(times, temperature)\n",
    "plt.ylabel(\"Temperature in °C\")\n",
    "ax.xaxis.set_major_formatter(mdates.DateFormatter('%Y-%m-%d %H:%M'))\n",
    "fig.autofmt_xdate()\n",
    "plt.tight_layout()\n",
    "plt.grid()"
   ]
  },
  {
   "cell_type": "code",
   "execution_count": null,
   "id": "fc5be21a-0509-468f-a872-10f8377ad342",
   "metadata": {},
   "outputs": [],
   "source": [
    "plt.figure()\n",
    "plt.title(\"Voltage difference vs. Temperature\")\n",
    "plt.plot(temperature, values, '.')\n",
    "plt.ylabel(\"µV\")\n",
    "plt.xlabel(\"Temperature in °C\")\n",
    "plt.grid()"
   ]
  },
  {
   "cell_type": "code",
   "execution_count": null,
   "id": "67ebf696-42f1-4002-9918-1d1c98399ab5",
   "metadata": {},
   "outputs": [],
   "source": [
    "plt.figure()\n",
    "plt.title(\"M69 diff with K182 as Nullmeter (100ms integration)\")\n",
    "plt.plot( (data[\"diff\"] - np.mean(data[\"diff\"]) ) * 1e9 )\n",
    "plt.ylabel(\"nV\")\n",
    "plt.grid()"
   ]
  },
  {
   "cell_type": "code",
   "execution_count": null,
   "id": "3d1c12dc-1f28-4437-95c3-d00d6018874c",
   "metadata": {},
   "outputs": [],
   "source": [
    "np.std(data[\"diff\"] * 1e9)"
   ]
  },
  {
   "cell_type": "code",
   "execution_count": null,
   "id": "08d2d32b-1863-422a-baa5-5ec48f2d68d3",
   "metadata": {},
   "outputs": [],
   "source": [
    "otimes  = []\n",
    "ovalues = []\n",
    "ostds   = []\n",
    "otemperature = []\n",
    "\n",
    "\n",
    "for filename in sorted(glob.glob(\"data/*_offset.xlsx\")):\n",
    "    print(filename, end = \"\\r\")\n",
    "    data = pd.read_excel(filename)\n",
    "    \n",
    "    otimes.append(np.mean(data[\"timestamp\"]))\n",
    "    ovalues.append(np.mean(data[\"diff\"]*1e9))\n",
    "    ostds.append( 2 * np.std(data[\"diff\"]*1e6)/len(data[\"diff\"])**0.5  )\n",
    "    #stds.append( np.std(data[\"diff\"]*1e6) )\n",
    "    otemperature.append(np.mean(data[\"temp\"]))\n"
   ]
  },
  {
   "cell_type": "code",
   "execution_count": null,
   "id": "5ff9cb8f-e434-452f-8352-786be8cc5ca7",
   "metadata": {},
   "outputs": [],
   "source": [
    "fig, ax = plt.subplots(2, 1, sharex=True)\n",
    "plt.title(\"Keithley 182 Offset\")\n",
    "\n",
    "#ax[0].errorbar(times, values, yerr=stds, capsize=5)\n",
    "ax[0].plot(otimes, ovalues)\n",
    "ax[0].plot(otimes, ovalues, '.')\n",
    "ax[0].set_ylabel(\"Offset in nV\")\n",
    "ax[0].grid()\n",
    "\n",
    "ax[1].plot(otimes, otemperature)\n",
    "ax[1].set_ylabel(\"Temperature in °C\")\n",
    "ax[1].xaxis.set_major_formatter(mdates.DateFormatter('%Y-%m-%d %H:%M'))\n",
    "ax[1].grid()\n",
    "\n",
    "\n",
    "fig.autofmt_xdate()\n",
    "plt.tight_layout()"
   ]
  },
  {
   "cell_type": "code",
   "execution_count": null,
   "id": "9986b84d-9891-4957-a2b6-a9f876a0bb9d",
   "metadata": {},
   "outputs": [],
   "source": [
    "M69 = F732C + values[-1]*1e-6\n",
    "M69"
   ]
  },
  {
   "cell_type": "code",
   "execution_count": null,
   "id": "63ccf9ae-ae6c-401b-99b0-ff61d270cb2c",
   "metadata": {},
   "outputs": [],
   "source": [
    "(M69 - 10)/10 * 1e6"
   ]
  },
  {
   "cell_type": "code",
   "execution_count": null,
   "id": "6f58310a-a312-49c4-a704-13fb0dfdcca7",
   "metadata": {},
   "outputs": [],
   "source": [
    "fig, ax = plt.subplots(2, 1, sharex=True)\n",
    "plt.title(\"Fluke 732C vs. M69\")\n",
    "\n",
    "#ax[0].errorbar(times, values, yerr=stds, capsize=5)\n",
    "ax[0].get_yaxis().set_major_formatter(\n",
    "    matplotlib.ticker.FuncFormatter(lambda x, p: \"{:0.7f}\".format(x) ))\n",
    "ax[0].plot(times, F732C+values*1e-6)\n",
    "ax[0].plot(times, F732C+values*1e-6, '.')\n",
    "ax[0].set_ylabel(\"M69 in V\")\n",
    "ax[0].grid()\n",
    "\n",
    "ax[1].plot(times, temperature)\n",
    "ax[1].set_ylabel(\"Temperature in °C\")\n",
    "ax[1].xaxis.set_major_formatter(mdates.DateFormatter('%Y-%m-%d %H:%M'))\n",
    "ax[1].grid()\n",
    "\n",
    "\n",
    "fig.autofmt_xdate()\n",
    "plt.tight_layout()"
   ]
  },
  {
   "cell_type": "code",
   "execution_count": null,
   "id": "90a920cf-a831-4a47-8b5b-0f47b74f8cc7",
   "metadata": {
    "tags": []
   },
   "outputs": [],
   "source": []
  },
  {
   "cell_type": "code",
   "execution_count": null,
   "id": "73d3a26d-95e4-4625-ac40-f8f8aa9b0695",
   "metadata": {},
   "outputs": [],
   "source": [
    "np.mean(values[-92:-10])"
   ]
  },
  {
   "cell_type": "code",
   "execution_count": null,
   "id": "160d2ba3-1f48-435c-b673-45fdfed22a7c",
   "metadata": {},
   "outputs": [],
   "source": []
  }
 ],
 "metadata": {
  "kernelspec": {
   "display_name": "Python 3 (ipykernel)",
   "language": "python",
   "name": "python3"
  },
  "language_info": {
   "codemirror_mode": {
    "name": "ipython",
    "version": 3
   },
   "file_extension": ".py",
   "mimetype": "text/x-python",
   "name": "python",
   "nbconvert_exporter": "python",
   "pygments_lexer": "ipython3",
   "version": "3.7.3"
  }
 },
 "nbformat": 4,
 "nbformat_minor": 5
}
